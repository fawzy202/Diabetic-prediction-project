{
 "cells": [
  {
   "cell_type": "markdown",
   "id": "69cc416b",
   "metadata": {
    "papermill": {
     "duration": 0.006111,
     "end_time": "2024-12-30T18:05:37.311754",
     "exception": false,
     "start_time": "2024-12-30T18:05:37.305643",
     "status": "completed"
    },
    "tags": []
   },
   "source": [
    "# #Importing Library"
   ]
  },
  {
   "cell_type": "code",
   "execution_count": 1,
   "id": "6d78ebaf",
   "metadata": {
    "execution": {
     "iopub.execute_input": "2024-12-30T18:05:37.323735Z",
     "iopub.status.busy": "2024-12-30T18:05:37.323381Z",
     "iopub.status.idle": "2024-12-30T18:05:40.061429Z",
     "shell.execute_reply": "2024-12-30T18:05:40.060417Z"
    },
    "papermill": {
     "duration": 2.746367,
     "end_time": "2024-12-30T18:05:40.063480",
     "exception": false,
     "start_time": "2024-12-30T18:05:37.317113",
     "status": "completed"
    },
    "tags": []
   },
   "outputs": [],
   "source": [
    "\n",
    "import pandas as pd\n",
    "import matplotlib.pyplot as plt\n",
    "import seaborn as sns\n",
    "from sklearn.model_selection import train_test_split\n",
    "from sklearn.feature_extraction.text import TfidfVectorizer\n",
    "from sklearn.linear_model import LogisticRegression\n",
    "from sklearn.metrics import classification_report, confusion_matrix, accuracy_score"
   ]
  },
  {
   "cell_type": "markdown",
   "id": "02cb884a",
   "metadata": {
    "papermill": {
     "duration": 0.005554,
     "end_time": "2024-12-30T18:05:40.074666",
     "exception": false,
     "start_time": "2024-12-30T18:05:40.069112",
     "status": "completed"
    },
    "tags": []
   },
   "source": [
    "# # Load the dataset"
   ]
  },
  {
   "cell_type": "code",
   "execution_count": 2,
   "id": "3de74834",
   "metadata": {
    "execution": {
     "iopub.execute_input": "2024-12-30T18:05:40.086586Z",
     "iopub.status.busy": "2024-12-30T18:05:40.086060Z",
     "iopub.status.idle": "2024-12-30T18:05:40.235032Z",
     "shell.execute_reply": "2024-12-30T18:05:40.234106Z"
    },
    "papermill": {
     "duration": 0.157206,
     "end_time": "2024-12-30T18:05:40.237116",
     "exception": false,
     "start_time": "2024-12-30T18:05:40.079910",
     "status": "completed"
    },
    "tags": []
   },
   "outputs": [],
   "source": [
    "\n",
    "file_path = '/kaggle/input/bbc-full-text-document-classification/bbc_data.csv'\n",
    "data = pd.read_csv(file_path)"
   ]
  },
  {
   "cell_type": "markdown",
   "id": "05ddfb3a",
   "metadata": {
    "papermill": {
     "duration": 0.004838,
     "end_time": "2024-12-30T18:05:40.247501",
     "exception": false,
     "start_time": "2024-12-30T18:05:40.242663",
     "status": "completed"
    },
    "tags": []
   },
   "source": [
    "# 1. Data Exploration"
   ]
  },
  {
   "cell_type": "code",
   "execution_count": 3,
   "id": "cf20349b",
   "metadata": {
    "execution": {
     "iopub.execute_input": "2024-12-30T18:05:40.259159Z",
     "iopub.status.busy": "2024-12-30T18:05:40.258708Z",
     "iopub.status.idle": "2024-12-30T18:05:40.275603Z",
     "shell.execute_reply": "2024-12-30T18:05:40.274122Z"
    },
    "papermill": {
     "duration": 0.02485,
     "end_time": "2024-12-30T18:05:40.277407",
     "exception": false,
     "start_time": "2024-12-30T18:05:40.252557",
     "status": "completed"
    },
    "tags": []
   },
   "outputs": [
    {
     "name": "stdout",
     "output_type": "stream",
     "text": [
      "Data Sample:\n",
      "                                                data         labels\n",
      "0  Musicians to tackle US red tape  Musicians gro...  entertainment\n",
      "1  U2s desire to be number one  U2, who have won ...  entertainment\n",
      "2  Rocker Doherty in on-stage fight  Rock singer ...  entertainment\n",
      "3  Snicket tops US box office chart  The film ada...  entertainment\n",
      "4  Oceans Twelve raids box office  Oceans Twelve,...  entertainment\n"
     ]
    }
   ],
   "source": [
    "\n",
    "\n",
    "print(\"Data Sample:\")\n",
    "print(data.head())\n"
   ]
  },
  {
   "cell_type": "code",
   "execution_count": 4,
   "id": "63dd7819",
   "metadata": {
    "execution": {
     "iopub.execute_input": "2024-12-30T18:05:40.289944Z",
     "iopub.status.busy": "2024-12-30T18:05:40.289511Z",
     "iopub.status.idle": "2024-12-30T18:05:40.319240Z",
     "shell.execute_reply": "2024-12-30T18:05:40.318212Z"
    },
    "papermill": {
     "duration": 0.038152,
     "end_time": "2024-12-30T18:05:40.321198",
     "exception": false,
     "start_time": "2024-12-30T18:05:40.283046",
     "status": "completed"
    },
    "tags": []
   },
   "outputs": [
    {
     "data": {
      "text/html": [
       "<div>\n",
       "<style scoped>\n",
       "    .dataframe tbody tr th:only-of-type {\n",
       "        vertical-align: middle;\n",
       "    }\n",
       "\n",
       "    .dataframe tbody tr th {\n",
       "        vertical-align: top;\n",
       "    }\n",
       "\n",
       "    .dataframe thead th {\n",
       "        text-align: right;\n",
       "    }\n",
       "</style>\n",
       "<table border=\"1\" class=\"dataframe\">\n",
       "  <thead>\n",
       "    <tr style=\"text-align: right;\">\n",
       "      <th></th>\n",
       "      <th>data</th>\n",
       "      <th>labels</th>\n",
       "    </tr>\n",
       "  </thead>\n",
       "  <tbody>\n",
       "    <tr>\n",
       "      <th>count</th>\n",
       "      <td>2225</td>\n",
       "      <td>2225</td>\n",
       "    </tr>\n",
       "    <tr>\n",
       "      <th>unique</th>\n",
       "      <td>2126</td>\n",
       "      <td>5</td>\n",
       "    </tr>\n",
       "    <tr>\n",
       "      <th>top</th>\n",
       "      <td>Web radio takes Spanish rap global  Spin the r...</td>\n",
       "      <td>sport</td>\n",
       "    </tr>\n",
       "    <tr>\n",
       "      <th>freq</th>\n",
       "      <td>2</td>\n",
       "      <td>511</td>\n",
       "    </tr>\n",
       "  </tbody>\n",
       "</table>\n",
       "</div>"
      ],
      "text/plain": [
       "                                                     data labels\n",
       "count                                                2225   2225\n",
       "unique                                               2126      5\n",
       "top     Web radio takes Spanish rap global  Spin the r...  sport\n",
       "freq                                                    2    511"
      ]
     },
     "execution_count": 4,
     "metadata": {},
     "output_type": "execute_result"
    }
   ],
   "source": [
    "data.describe()"
   ]
  },
  {
   "cell_type": "code",
   "execution_count": 5,
   "id": "8b1dfbe1",
   "metadata": {
    "execution": {
     "iopub.execute_input": "2024-12-30T18:05:40.333857Z",
     "iopub.status.busy": "2024-12-30T18:05:40.333481Z",
     "iopub.status.idle": "2024-12-30T18:05:40.353456Z",
     "shell.execute_reply": "2024-12-30T18:05:40.352073Z"
    },
    "papermill": {
     "duration": 0.028182,
     "end_time": "2024-12-30T18:05:40.355353",
     "exception": false,
     "start_time": "2024-12-30T18:05:40.327171",
     "status": "completed"
    },
    "tags": []
   },
   "outputs": [
    {
     "name": "stdout",
     "output_type": "stream",
     "text": [
      "<class 'pandas.core.frame.DataFrame'>\n",
      "RangeIndex: 2225 entries, 0 to 2224\n",
      "Data columns (total 2 columns):\n",
      " #   Column  Non-Null Count  Dtype \n",
      "---  ------  --------------  ----- \n",
      " 0   data    2225 non-null   object\n",
      " 1   labels  2225 non-null   object\n",
      "dtypes: object(2)\n",
      "memory usage: 34.9+ KB\n"
     ]
    }
   ],
   "source": [
    "data.info()"
   ]
  },
  {
   "cell_type": "markdown",
   "id": "d9fbe786",
   "metadata": {
    "papermill": {
     "duration": 0.005381,
     "end_time": "2024-12-30T18:05:40.366517",
     "exception": false,
     "start_time": "2024-12-30T18:05:40.361136",
     "status": "completed"
    },
    "tags": []
   },
   "source": [
    "# checking null value"
   ]
  },
  {
   "cell_type": "code",
   "execution_count": 6,
   "id": "774f7538",
   "metadata": {
    "execution": {
     "iopub.execute_input": "2024-12-30T18:05:40.379296Z",
     "iopub.status.busy": "2024-12-30T18:05:40.378738Z",
     "iopub.status.idle": "2024-12-30T18:05:40.387300Z",
     "shell.execute_reply": "2024-12-30T18:05:40.386239Z"
    },
    "papermill": {
     "duration": 0.016944,
     "end_time": "2024-12-30T18:05:40.389158",
     "exception": false,
     "start_time": "2024-12-30T18:05:40.372214",
     "status": "completed"
    },
    "tags": []
   },
   "outputs": [
    {
     "data": {
      "text/plain": [
       "data      0\n",
       "labels    0\n",
       "dtype: int64"
      ]
     },
     "execution_count": 6,
     "metadata": {},
     "output_type": "execute_result"
    }
   ],
   "source": [
    "data.isna().sum()"
   ]
  },
  {
   "cell_type": "markdown",
   "id": "a6242976",
   "metadata": {
    "papermill": {
     "duration": 0.005571,
     "end_time": "2024-12-30T18:05:40.400744",
     "exception": false,
     "start_time": "2024-12-30T18:05:40.395173",
     "status": "completed"
    },
    "tags": []
   },
   "source": [
    "# Distribution of labels"
   ]
  },
  {
   "cell_type": "code",
   "execution_count": 7,
   "id": "c4d61efe",
   "metadata": {
    "execution": {
     "iopub.execute_input": "2024-12-30T18:05:40.413842Z",
     "iopub.status.busy": "2024-12-30T18:05:40.413424Z",
     "iopub.status.idle": "2024-12-30T18:05:40.421031Z",
     "shell.execute_reply": "2024-12-30T18:05:40.420012Z"
    },
    "papermill": {
     "duration": 0.016051,
     "end_time": "2024-12-30T18:05:40.422647",
     "exception": false,
     "start_time": "2024-12-30T18:05:40.406596",
     "status": "completed"
    },
    "tags": []
   },
   "outputs": [
    {
     "name": "stdout",
     "output_type": "stream",
     "text": [
      "\n",
      "Label Distribution:\n",
      "labels\n",
      "sport            511\n",
      "business         510\n",
      "politics         417\n",
      "tech             401\n",
      "entertainment    386\n",
      "Name: count, dtype: int64\n"
     ]
    }
   ],
   "source": [
    "\n",
    "label_counts = data['labels'].value_counts()\n",
    "print(\"\\nLabel Distribution:\")\n",
    "print(label_counts)"
   ]
  },
  {
   "cell_type": "markdown",
   "id": "64a5b1b1",
   "metadata": {
    "papermill": {
     "duration": 0.005849,
     "end_time": "2024-12-30T18:05:40.434405",
     "exception": false,
     "start_time": "2024-12-30T18:05:40.428556",
     "status": "completed"
    },
    "tags": []
   },
   "source": [
    "# Plot label distribution"
   ]
  },
  {
   "cell_type": "code",
   "execution_count": 8,
   "id": "bccb0d61",
   "metadata": {
    "execution": {
     "iopub.execute_input": "2024-12-30T18:05:40.447953Z",
     "iopub.status.busy": "2024-12-30T18:05:40.447515Z",
     "iopub.status.idle": "2024-12-30T18:05:40.711277Z",
     "shell.execute_reply": "2024-12-30T18:05:40.710155Z"
    },
    "papermill": {
     "duration": 0.272279,
     "end_time": "2024-12-30T18:05:40.712967",
     "exception": false,
     "start_time": "2024-12-30T18:05:40.440688",
     "status": "completed"
    },
    "tags": []
   },
   "outputs": [
    {
     "data": {
      "image/png": "[encoded data removed]",
      "text/plain": [
       "<Figure size 1000x600 with 1 Axes>"
      ]
     },
     "metadata": {},
     "output_type": "display_data"
    }
   ],
   "source": [
    "\n",
    "plt.figure(figsize=(10, 6))\n",
    "sns.barplot(x=label_counts.index, y=label_counts.values, palette=\"viridis\")\n",
    "plt.title(\"Label Distribution\")\n",
    "plt.xlabel(\"Labels\")\n",
    "plt.ylabel(\"Count\")\n",
    "plt.xticks(rotation=45)\n",
    "plt.tight_layout()\n",
    "plt.show()"
   ]
  },
  {
   "cell_type": "markdown",
   "id": "a05f0227",
   "metadata": {
    "papermill": {
     "duration": 0.005935,
     "end_time": "2024-12-30T18:05:40.725218",
     "exception": false,
     "start_time": "2024-12-30T18:05:40.719283",
     "status": "completed"
    },
    "tags": []
   },
   "source": [
    "# 2. Data Preparation"
   ]
  },
  {
   "cell_type": "code",
   "execution_count": 9,
   "id": "7ed0ed8e",
   "metadata": {
    "execution": {
     "iopub.execute_input": "2024-12-30T18:05:40.739297Z",
     "iopub.status.busy": "2024-12-30T18:05:40.738886Z",
     "iopub.status.idle": "2024-12-30T18:05:40.743682Z",
     "shell.execute_reply": "2024-12-30T18:05:40.742714Z"
    },
    "papermill": {
     "duration": 0.013727,
     "end_time": "2024-12-30T18:05:40.745322",
     "exception": false,
     "start_time": "2024-12-30T18:05:40.731595",
     "status": "completed"
    },
    "tags": []
   },
   "outputs": [],
   "source": [
    "\n",
    "X = data['data']\n",
    "y = data['labels']"
   ]
  },
  {
   "cell_type": "markdown",
   "id": "122c5998",
   "metadata": {
    "papermill": {
     "duration": 0.005907,
     "end_time": "2024-12-30T18:05:40.757711",
     "exception": false,
     "start_time": "2024-12-30T18:05:40.751804",
     "status": "completed"
    },
    "tags": []
   },
   "source": [
    "# Split data into training and test sets"
   ]
  },
  {
   "cell_type": "code",
   "execution_count": 10,
   "id": "e58b4b5b",
   "metadata": {
    "execution": {
     "iopub.execute_input": "2024-12-30T18:05:40.771538Z",
     "iopub.status.busy": "2024-12-30T18:05:40.771192Z",
     "iopub.status.idle": "2024-12-30T18:05:40.779601Z",
     "shell.execute_reply": "2024-12-30T18:05:40.778638Z"
    },
    "papermill": {
     "duration": 0.017705,
     "end_time": "2024-12-30T18:05:40.781683",
     "exception": false,
     "start_time": "2024-12-30T18:05:40.763978",
     "status": "completed"
    },
    "tags": []
   },
   "outputs": [],
   "source": [
    "X_train, X_test, y_train, y_test = train_test_split(X, y, test_size=0.3, random_state=42)"
   ]
  },
  {
   "cell_type": "markdown",
   "id": "235b6a26",
   "metadata": {
    "papermill": {
     "duration": 0.006022,
     "end_time": "2024-12-30T18:05:40.794245",
     "exception": false,
     "start_time": "2024-12-30T18:05:40.788223",
     "status": "completed"
    },
    "tags": []
   },
   "source": [
    "# Transform text data using TfidfVectorizer"
   ]
  },
  {
   "cell_type": "code",
   "execution_count": 11,
   "id": "10832ab3",
   "metadata": {
    "execution": {
     "iopub.execute_input": "2024-12-30T18:05:40.809049Z",
     "iopub.status.busy": "2024-12-30T18:05:40.808572Z",
     "iopub.status.idle": "2024-12-30T18:05:41.512803Z",
     "shell.execute_reply": "2024-12-30T18:05:41.511551Z"
    },
    "papermill": {
     "duration": 0.714224,
     "end_time": "2024-12-30T18:05:41.514929",
     "exception": false,
     "start_time": "2024-12-30T18:05:40.800705",
     "status": "completed"
    },
    "tags": []
   },
   "outputs": [],
   "source": [
    "\n",
    "tfidf = TfidfVectorizer(max_features=5000, stop_words='english')\n",
    "X_train_tfidf = tfidf.fit_transform(X_train)\n",
    "X_test_tfidf = tfidf.transform(X_test)\n"
   ]
  },
  {
   "cell_type": "markdown",
   "id": "d34039c0",
   "metadata": {
    "papermill": {
     "duration": 0.006946,
     "end_time": "2024-12-30T18:05:41.529457",
     "exception": false,
     "start_time": "2024-12-30T18:05:41.522511",
     "status": "completed"
    },
    "tags": []
   },
   "source": [
    "# 3. Model Training"
   ]
  },
  {
   "cell_type": "code",
   "execution_count": 12,
   "id": "0e226fea",
   "metadata": {
    "execution": {
     "iopub.execute_input": "2024-12-30T18:05:41.543668Z",
     "iopub.status.busy": "2024-12-30T18:05:41.543278Z",
     "iopub.status.idle": "2024-12-30T18:05:44.414106Z",
     "shell.execute_reply": "2024-12-30T18:05:44.409226Z"
    },
    "papermill": {
     "duration": 2.884243,
     "end_time": "2024-12-30T18:05:44.420185",
     "exception": false,
     "start_time": "2024-12-30T18:05:41.535942",
     "status": "completed"
    },
    "tags": []
   },
   "outputs": [
    {
     "data": {
      "text/html": [
       "<style>#sk-container-id-1 {color: black;background-color: white;}#sk-container-id-1 pre{padding: 0;}#sk-container-id-1 div.sk-toggleable {background-color: white;}#sk-container-id-1 label.sk-toggleable__label {cursor: pointer;display: block;width: 100%;margin-bottom: 0;padding: 0.3em;box-sizing: border-box;text-align: center;}#sk-container-id-1 label.sk-toggleable__label-arrow:before {content: \"▸\";float: left;margin-right: 0.25em;color: #696969;}#sk-container-id-1 label.sk-toggleable__label-arrow:hover:before {color: black;}#sk-container-id-1 div.sk-estimator:hover label.sk-toggleable__label-arrow:before {color: black;}#sk-container-id-1 div.sk-toggleable__content {max-height: 0;max-width: 0;overflow: hidden;text-align: left;background-color: #f0f8ff;}#sk-container-id-1 div.sk-toggleable__content pre {margin: 0.2em;color: black;border-radius: 0.25em;background-color: #f0f8ff;}#sk-container-id-1 input.sk-toggleable__control:checked~div.sk-toggleable__content {max-height: 200px;max-width: 100%;overflow: auto;}#sk-container-id-1 input.sk-toggleable__control:checked~label.sk-toggleable__label-arrow:before {content: \"▾\";}#sk-container-id-1 div.sk-estimator input.sk-toggleable__control:checked~label.sk-toggleable__label {background-color: #d4ebff;}#sk-container-id-1 div.sk-label input.sk-toggleable__control:checked~label.sk-toggleable__label {background-color: #d4ebff;}#sk-container-id-1 input.sk-hidden--visually {border: 0;clip: rect(1px 1px 1px 1px);clip: rect(1px, 1px, 1px, 1px);height: 1px;margin: -1px;overflow: hidden;padding: 0;position: absolute;width: 1px;}#sk-container-id-1 div.sk-estimator {font-family: monospace;background-color: #f0f8ff;border: 1px dotted black;border-radius: 0.25em;box-sizing: border-box;margin-bottom: 0.5em;}#sk-container-id-1 div.sk-estimator:hover {background-color: #d4ebff;}#sk-container-id-1 div.sk-parallel-item::after {content: \"\";width: 100%;border-bottom: 1px solid gray;flex-grow: 1;}#sk-container-id-1 div.sk-label:hover label.sk-toggleable__label {background-color: #d4ebff;}#sk-container-id-1 div.sk-serial::before {content: \"\";position: absolute;border-left: 1px solid gray;box-sizing: border-box;top: 0;bottom: 0;left: 50%;z-index: 0;}#sk-container-id-1 div.sk-serial {display: flex;flex-direction: column;align-items: center;background-color: white;padding-right: 0.2em;padding-left: 0.2em;position: relative;}#sk-container-id-1 div.sk-item {position: relative;z-index: 1;}#sk-container-id-1 div.sk-parallel {display: flex;align-items: stretch;justify-content: center;background-color: white;position: relative;}#sk-container-id-1 div.sk-item::before, #sk-container-id-1 div.sk-parallel-item::before {content: \"\";position: absolute;border-left: 1px solid gray;box-sizing: border-box;top: 0;bottom: 0;left: 50%;z-index: -1;}#sk-container-id-1 div.sk-parallel-item {display: flex;flex-direction: column;z-index: 1;position: relative;background-color: white;}#sk-container-id-1 div.sk-parallel-item:first-child::after {align-self: flex-end;width: 50%;}#sk-container-id-1 div.sk-parallel-item:last-child::after {align-self: flex-start;width: 50%;}#sk-container-id-1 div.sk-parallel-item:only-child::after {width: 0;}#sk-container-id-1 div.sk-dashed-wrapped {border: 1px dashed gray;margin: 0 0.4em 0.5em 0.4em;box-sizing: border-box;padding-bottom: 0.4em;background-color: white;}#sk-container-id-1 div.sk-label label {font-family: monospace;font-weight: bold;display: inline-block;line-height: 1.2em;}#sk-container-id-1 div.sk-label-container {text-align: center;}#sk-container-id-1 div.sk-container {/* jupyter's `normalize.less` sets `[hidden] { display: none; }` but bootstrap.min.css set `[hidden] { display: none !important; }` so we also need the `!important` here to be able to override the default hidden behavior on the sphinx rendered scikit-learn.org. See: https://github.com/scikit-learn/scikit-learn/issues/21755 */display: inline-block !important;position: relative;}#sk-container-id-1 div.sk-text-repr-fallback {display: none;}</style><div id=\"sk-container-id-1\" class=\"sk-top-container\"><div class=\"sk-text-repr-fallback\"><pre>LogisticRegression(max_iter=1000, random_state=42)</pre><b>In a Jupyter environment, please rerun this cell to show the HTML representation or trust the notebook. <br />On GitHub, the HTML representation is unable to render, please try loading this page with nbviewer.org.</b></div><div class=\"sk-container\" hidden><div class=\"sk-item\"><div class=\"sk-estimator sk-toggleable\"><input class=\"sk-toggleable__control sk-hidden--visually\" id=\"sk-estimator-id-1\" type=\"checkbox\" checked><label for=\"sk-estimator-id-1\" class=\"sk-toggleable__label sk-toggleable__label-arrow\">LogisticRegression</label><div class=\"sk-toggleable__content\"><pre>LogisticRegression(max_iter=1000, random_state=42)</pre></div></div></div></div></div>"
      ],
      "text/plain": [
       "LogisticRegression(max_iter=1000, random_state=42)"
      ]
     },
     "execution_count": 12,
     "metadata": {},
     "output_type": "execute_result"
    }
   ],
   "source": [
    "\n",
    "model = LogisticRegression(max_iter=1000, random_state=42)\n",
    "model.fit(X_train_tfidf, y_train)\n"
   ]
  },
  {
   "cell_type": "markdown",
   "id": "959b29fe",
   "metadata": {
    "papermill": {
     "duration": 0.026189,
     "end_time": "2024-12-30T18:05:44.503118",
     "exception": false,
     "start_time": "2024-12-30T18:05:44.476929",
     "status": "completed"
    },
    "tags": []
   },
   "source": [
    "# 4. Model Evaluation"
   ]
  },
  {
   "cell_type": "code",
   "execution_count": 13,
   "id": "a680a652",
   "metadata": {
    "execution": {
     "iopub.execute_input": "2024-12-30T18:05:44.517451Z",
     "iopub.status.busy": "2024-12-30T18:05:44.517074Z",
     "iopub.status.idle": "2024-12-30T18:05:44.522583Z",
     "shell.execute_reply": "2024-12-30T18:05:44.521477Z"
    },
    "papermill": {
     "duration": 0.014741,
     "end_time": "2024-12-30T18:05:44.524370",
     "exception": false,
     "start_time": "2024-12-30T18:05:44.509629",
     "status": "completed"
    },
    "tags": []
   },
   "outputs": [],
   "source": [
    "\n",
    "predictions = model.predict(X_test_tfidf)"
   ]
  },
  {
   "cell_type": "markdown",
   "id": "8ba4d685",
   "metadata": {
    "papermill": {
     "duration": 0.0068,
     "end_time": "2024-12-30T18:05:44.537987",
     "exception": false,
     "start_time": "2024-12-30T18:05:44.531187",
     "status": "completed"
    },
    "tags": []
   },
   "source": [
    "# Classification report"
   ]
  },
  {
   "cell_type": "code",
   "execution_count": 14,
   "id": "c0cdd328",
   "metadata": {
    "execution": {
     "iopub.execute_input": "2024-12-30T18:05:44.552418Z",
     "iopub.status.busy": "2024-12-30T18:05:44.552070Z",
     "iopub.status.idle": "2024-12-30T18:05:44.579900Z",
     "shell.execute_reply": "2024-12-30T18:05:44.578712Z"
    },
    "papermill": {
     "duration": 0.037089,
     "end_time": "2024-12-30T18:05:44.581607",
     "exception": false,
     "start_time": "2024-12-30T18:05:44.544518",
     "status": "completed"
    },
    "tags": []
   },
   "outputs": [
    {
     "name": "stdout",
     "output_type": "stream",
     "text": [
      "Classification Report:\n",
      "               precision    recall  f1-score   support\n",
      "\n",
      "     business       0.96      0.98      0.97       163\n",
      "entertainment       0.97      0.96      0.97       120\n",
      "     politics       0.95      0.99      0.97       112\n",
      "        sport       1.00      0.99      1.00       148\n",
      "         tech       1.00      0.96      0.98       125\n",
      "\n",
      "     accuracy                           0.98       668\n",
      "    macro avg       0.98      0.98      0.98       668\n",
      " weighted avg       0.98      0.98      0.98       668\n",
      "\n"
     ]
    }
   ],
   "source": [
    "\n",
    "print(\"Classification Report:\")\n",
    "print(classification_report(y_test, predictions))"
   ]
  },
  {
   "cell_type": "markdown",
   "id": "bd54cb91",
   "metadata": {
    "papermill": {
     "duration": 0.006536,
     "end_time": "2024-12-30T18:05:44.595136",
     "exception": false,
     "start_time": "2024-12-30T18:05:44.588600",
     "status": "completed"
    },
    "tags": []
   },
   "source": [
    "# Confusion Matrix"
   ]
  },
  {
   "cell_type": "code",
   "execution_count": 15,
   "id": "6782031f",
   "metadata": {
    "execution": {
     "iopub.execute_input": "2024-12-30T18:05:44.609854Z",
     "iopub.status.busy": "2024-12-30T18:05:44.609425Z",
     "iopub.status.idle": "2024-12-30T18:05:45.077353Z",
     "shell.execute_reply": "2024-12-30T18:05:45.076299Z"
    },
    "papermill": {
     "duration": 0.477476,
     "end_time": "2024-12-30T18:05:45.079304",
     "exception": false,
     "start_time": "2024-12-30T18:05:44.601828",
     "status": "completed"
    },
    "tags": []
   },
   "outputs": [
    {
     "data": {
      "image/png": "[encoded data removed]",
      "text/plain": [
       "<Figure size 1000x600 with 2 Axes>"
      ]
     },
     "metadata": {},
     "output_type": "display_data"
    }
   ],
   "source": [
    "conf_matrix = confusion_matrix(y_test, predictions)\n",
    "plt.figure(figsize=(10, 6))\n",
    "sns.heatmap(conf_matrix, annot=True, fmt='d', cmap=\"Blues\", xticklabels=label_counts.index, yticklabels=label_counts.index)\n",
    "plt.title(\"Confusion Matrix\")\n",
    "plt.xlabel(\"Predicted Labels\")\n",
    "plt.ylabel(\"True Labels\")\n",
    "plt.tight_layout()\n",
    "plt.show()"
   ]
  },
  {
   "cell_type": "markdown",
   "id": "c6eafa18",
   "metadata": {
    "papermill": {
     "duration": 0.007531,
     "end_time": "2024-12-30T18:05:45.094669",
     "exception": false,
     "start_time": "2024-12-30T18:05:45.087138",
     "status": "completed"
    },
    "tags": []
   },
   "source": [
    "# Accuracy"
   ]
  },
  {
   "cell_type": "code",
   "execution_count": 16,
   "id": "d7426279",
   "metadata": {
    "execution": {
     "iopub.execute_input": "2024-12-30T18:05:45.110967Z",
     "iopub.status.busy": "2024-12-30T18:05:45.110555Z",
     "iopub.status.idle": "2024-12-30T18:05:45.117316Z",
     "shell.execute_reply": "2024-12-30T18:05:45.116131Z"
    },
    "papermill": {
     "duration": 0.01675,
     "end_time": "2024-12-30T18:05:45.118919",
     "exception": false,
     "start_time": "2024-12-30T18:05:45.102169",
     "status": "completed"
    },
    "tags": []
   },
   "outputs": [
    {
     "name": "stdout",
     "output_type": "stream",
     "text": [
      "Accuracy: 0.98\n"
     ]
    }
   ],
   "source": [
    "accuracy = accuracy_score(y_test, predictions)\n",
    "print(f\"Accuracy: {accuracy:.2f}\")"
   ]
  }
 ],
 "metadata": {
  "kaggle": {
   "accelerator": "none",
   "dataSources": [
    {
     "datasetId": 4731581,
     "sourceId": 8028092,
     "sourceType": "datasetVersion"
    }
   ],
   "dockerImageVersionId": 30822,
   "isGpuEnabled": false,
   "isInternetEnabled": true,
   "language": "python",
   "sourceType": "notebook"
  },
  "kernelspec": {
   "display_name": "Python 3",
   "language": "python",
   "name": "python3"
  },
  "language_info": {
   "codemirror_mode": {
    "name": "ipython",
    "version": 3
   },
   "file_extension": ".py",
   "mimetype": "text/x-python",
   "name": "python",
   "nbconvert_exporter": "python",
   "pygments_lexer": "ipython3",
   "version": "3.10.12"
  },
  "papermill": {
   "default_parameters": {},
   "duration": 11.221966,
   "end_time": "2024-12-30T18:05:45.847998",
   "environment_variables": {},
   "exception": null,
   "input_path": "__notebook__.ipynb",
   "output_path": "__notebook__.ipynb",
   "parameters": {},
   "start_time": "2024-12-30T18:05:34.626032",
   "version": "2.6.0"
  }
 },
 "nbformat": 4,
 "nbformat_minor": 5
}
